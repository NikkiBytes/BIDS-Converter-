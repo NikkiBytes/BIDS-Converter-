{
 "cells": [
  {
   "cell_type": "markdown",
   "metadata": {},
   "source": [
    "# Title: BIDS Containerization\n",
    "Author: Nichollette Acosta <br>\n",
    "Description: This is a run down of the workflow used to convert dicom files into a BIDS format. \n",
    "\n",
    "\n",
    "\n"
   ]
  },
  {
   "cell_type": "markdown",
   "metadata": {},
   "source": [
    "## Get the input\n",
    "We will need: <br>\n",
    "I. Subject Name <br>\n",
    "II. Path Directory for input data (we need the 'parent' directory) <br>\n",
    "III. Path Directory for dicoms (this must be consistent for all folders) <br>\n",
    "IV. Parameters for particular study (these must be included in the dicominfo file) <br>\n",
    "V. Output Directory (for user)"
   ]
  },
  {
   "cell_type": "code",
   "execution_count": null,
   "metadata": {
    "collapsed": true
   },
   "outputs": [],
   "source": []
  }
 ],
 "metadata": {
  "kernelspec": {
   "display_name": "Python 3",
   "language": "python",
   "name": "python3"
  },
  "language_info": {
   "codemirror_mode": {
    "name": "ipython",
    "version": 3
   },
   "file_extension": ".py",
   "mimetype": "text/x-python",
   "name": "python",
   "nbconvert_exporter": "python",
   "pygments_lexer": "ipython3",
   "version": "3.6.3"
  }
 },
 "nbformat": 4,
 "nbformat_minor": 2
}
